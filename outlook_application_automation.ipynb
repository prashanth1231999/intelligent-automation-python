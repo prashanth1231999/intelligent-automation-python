{
 "cells": [
  {
   "cell_type": "markdown",
   "id": "95c180a4",
   "metadata": {},
   "source": [
    "1. Use the “Classic Outlook” (needed for win32com)\n",
    "    win32 works with classic outlook and it needs microsoft 365 subscription\n",
    "    \n",
    "2. If you stick with Microsoft Store Outlook\n",
    "   You cannot use win32com — because it has no COM interface."
   ]
  },
  {
   "cell_type": "code",
   "execution_count": 1,
   "id": "fddf301a",
   "metadata": {},
   "outputs": [],
   "source": [
    "# pip install pywin32"
   ]
  },
  {
   "cell_type": "code",
   "execution_count": 1,
   "id": "5a9702fc",
   "metadata": {},
   "outputs": [],
   "source": [
    "# outlook.bat is used for adding outlook.exe to system path, this is not used"
   ]
  },
  {
   "cell_type": "markdown",
   "id": "af7ff5cf",
   "metadata": {},
   "source": [
    "### import Libs"
   ]
  },
  {
   "cell_type": "code",
   "execution_count": 35,
   "id": "caef3c89",
   "metadata": {},
   "outputs": [],
   "source": [
    "import win32com.client as win32\n",
    "import os\n",
    "import time\n",
    "import pandas as pd\n",
    "import logging"
   ]
  },
  {
   "cell_type": "markdown",
   "id": "ac7f92e9",
   "metadata": {},
   "source": [
    "### Variables"
   ]
  },
  {
   "cell_type": "code",
   "execution_count": 13,
   "id": "65d6acf2",
   "metadata": {},
   "outputs": [],
   "source": [
    "MailBoxName = '@gmail.com'\n",
    "ToRecipients = '@gmail.com'\n",
    "ReplyRecipients = '@gmail.com'\n",
    "AttachmentFilePath = '\"C:\\Users\\UserName\\OneDrive\\Desktop\\My Work Experience\\intelligent-automation-python\\README.md\"'"
   ]
  },
  {
   "cell_type": "markdown",
   "id": "dc195ce7",
   "metadata": {},
   "source": [
    "### Connect to Outlook"
   ]
  },
  {
   "cell_type": "code",
   "execution_count": 5,
   "id": "1fe97985",
   "metadata": {},
   "outputs": [],
   "source": [
    "## for checking 64 bit or 32 bit \n",
    "# import platform\n",
    "# print(platform.architecture())"
   ]
  },
  {
   "cell_type": "code",
   "execution_count": 7,
   "id": "ce3f7b9c",
   "metadata": {},
   "outputs": [],
   "source": [
    "# os.startfile('outlook')"
   ]
  },
  {
   "cell_type": "code",
   "execution_count": 26,
   "id": "cfb06233",
   "metadata": {},
   "outputs": [],
   "source": [
    "outlook = win32.Dispatch(\"Outlook.Application\")"
   ]
  },
  {
   "cell_type": "markdown",
   "id": "23fd6af7",
   "metadata": {},
   "source": [
    "### Send Email through Outlook"
   ]
  },
  {
   "cell_type": "code",
   "execution_count": 27,
   "id": "40e95c7b",
   "metadata": {},
   "outputs": [],
   "source": [
    "name_space = outlook.GetNamespace(\"MAPI\") "
   ]
  },
  {
   "cell_type": "code",
   "execution_count": 28,
   "id": "8d08854c",
   "metadata": {},
   "outputs": [],
   "source": [
    "# selecting the profile\n",
    "profile = name_space.Folders[MailBoxName]"
   ]
  },
  {
   "cell_type": "code",
   "execution_count": 29,
   "id": "a0a438fb",
   "metadata": {},
   "outputs": [],
   "source": [
    "# selecting the Sender Account\n",
    "SenderAccount = outlook.Session.Accounts[MailBoxName]"
   ]
  },
  {
   "cell_type": "code",
   "execution_count": 32,
   "id": "fc39a20b",
   "metadata": {},
   "outputs": [],
   "source": [
    "email = outlook.CreateItem(0)"
   ]
  },
  {
   "cell_type": "code",
   "execution_count": 34,
   "id": "4d1039f8",
   "metadata": {},
   "outputs": [],
   "source": [
    "body_html = '''<!doctype html>\n",
    "<html lang=\"en\">\n",
    "<head>\n",
    "  <meta charset=\"utf-8\" />\n",
    "  <meta name=\"viewport\" content=\"width=device-width,initial-scale=1\" />\n",
    "  <title>Message</title>\n",
    "  <style>\n",
    "    body { font-family: Arial, Helvetica, sans-serif; font-size: 14px; color: #111; }\n",
    "    .container { max-width: 680px; margin: 20px auto; padding: 16px; }\n",
    "  </style>\n",
    "</head>\n",
    "<body>\n",
    "  <div class=\"container\">\n",
    "    <p>Hi,</p>\n",
    "\n",
    "    <p>PFA,</p>\n",
    "\n",
    "    <p>Thanks and Regards,</p>\n",
    "  </div>\n",
    "</body>\n",
    "</html>\n",
    "'''"
   ]
  },
  {
   "cell_type": "code",
   "execution_count": 33,
   "id": "000667ca",
   "metadata": {},
   "outputs": [],
   "source": [
    "email.To = ToRecipients\n",
    "email.ReplyRecipients.Add(ReplyRecipients)\n",
    "email.Subject = 'Test Subject'\n",
    "email.HTMLBody = body_html   # HTML Format\n",
    "# email.Body = MailBody        # normal Format\n",
    "email.Attachments.Add(AttachmentFilePath)\n",
    "email.Save()\n",
    "time.sleep(2)"
   ]
  },
  {
   "cell_type": "code",
   "execution_count": null,
   "id": "8ede7994",
   "metadata": {},
   "outputs": [],
   "source": [
    "email.Send()"
   ]
  },
  {
   "cell_type": "markdown",
   "id": "233d8f3a",
   "metadata": {},
   "source": [
    "### Save Outlook email"
   ]
  },
  {
   "cell_type": "code",
   "execution_count": null,
   "id": "2b0c243a",
   "metadata": {},
   "outputs": [],
   "source": [
    "# initializing logging\n",
    "\n",
    "# Configure logging\n",
    "logging.basicConfig(\n",
    "    level=logging.INFO,                      # Set minimum log level\n",
    "    format=\"%(asctime)s - %(levelname)s - %(message)s\",  # Log format\n",
    "    handlers=[\n",
    "        logging.StreamHandler()              # Output logs to console\n",
    "    ]\n",
    ")"
   ]
  },
  {
   "cell_type": "markdown",
   "id": "c0ffc0a6",
   "metadata": {},
   "source": [
    "###### Variables"
   ]
  },
  {
   "cell_type": "code",
   "execution_count": 4,
   "id": "b830f5cd",
   "metadata": {},
   "outputs": [],
   "source": [
    "SaveEmailFolderPath  = 'C:/Users/Downloads'\n",
    "MailBoxName = '@gmail.com'"
   ]
  },
  {
   "cell_type": "markdown",
   "id": "c8559f6e",
   "metadata": {},
   "source": [
    "##### Main code"
   ]
  },
  {
   "cell_type": "code",
   "execution_count": null,
   "id": "7fb30bce",
   "metadata": {},
   "outputs": [],
   "source": [
    "name_space = outlook.GetNamespace(\"MAPI\") "
   ]
  },
  {
   "cell_type": "code",
   "execution_count": null,
   "id": "15d0dce4",
   "metadata": {},
   "outputs": [],
   "source": [
    "# selecting the profile\n",
    "profile = name_space.Folders[MailBoxName]"
   ]
  },
  {
   "cell_type": "code",
   "execution_count": null,
   "id": "2c696f1b",
   "metadata": {},
   "outputs": [],
   "source": [
    "# Connect to Sent Items Folder, SavedSentItems Folder\n",
    "SentItemsFolder = name_space.Folders[MailBoxName].Folders[\"Sent Items\"]\n",
    "SavedSentItemsFolder = name_space.Folders[MailBoxName].Folders[\"Saved Sent Items\"]"
   ]
  },
  {
   "cell_type": "code",
   "execution_count": null,
   "id": "462fb1e5",
   "metadata": {},
   "outputs": [],
   "source": [
    "# Filtering based on Subject\n",
    "Emails = SentItemsFolder.Items.Restrict(\"@SQL=\"\"urn:schemas:httpmail:subject\"\" LIKE '{}'\".format('DealerShip'))"
   ]
  },
  {
   "cell_type": "code",
   "execution_count": null,
   "id": "f363eb1d",
   "metadata": {},
   "outputs": [],
   "source": [
    "# get Emails Count\n",
    "EmailCount = Emails.Count"
   ]
  },
  {
   "cell_type": "code",
   "execution_count": null,
   "id": "f442e6e7",
   "metadata": {},
   "outputs": [],
   "source": [
    "# Sorting Emails for fecthing latest email\n",
    "Emails.sort(\"[ReceivedTime]\", False)"
   ]
  },
  {
   "cell_type": "code",
   "execution_count": 5,
   "id": "bf1f60a8",
   "metadata": {},
   "outputs": [],
   "source": [
    "def Extract_Reg_Number(text):\n",
    "    matches = re.findall(r\"\\b\\d{9}\\b\", text)\n",
    "    if len(matches)!=0:\n",
    "        for i in matches[0]:\n",
    "            if i!='':\n",
    "                return i"
   ]
  },
  {
   "cell_type": "code",
   "execution_count": null,
   "id": "1d3fc019",
   "metadata": {},
   "outputs": [],
   "source": [
    "# Looping thorugh each email\n",
    "if EmailCount > 0:\n",
    "    for i in range(EmailCount, 0, -1):\n",
    "        email = Emails[i-1]\n",
    "        # access Email Sent Time\n",
    "        SentTime = pd.to_datetime(str(email.ReceivedTime))\n",
    "        email_Subject = email.Subject\n",
    "        # Extracting 9 digit Registration Number from Email Subject\n",
    "        Reg_No = Extract_Reg_Number(email_Subject)\n",
    "        if Reg_No != '':\n",
    "            logging.info(\"Extracted Registration Number from Email Subject\")\n",
    "        else:\n",
    "            logging.warning(f\"Extraction Registration Number from Email Subject-{email_Subject} not Success\")\n",
    "            continue\n",
    "#         if os.path.exists(SaveEmailFolderPath):\n",
    "        output_dir = f\"{SaveEmailFolderPath}/{Reg_No}\"\n",
    "        output_dir.mkdir(parents=True, exist_ok=True)\n",
    "        output_file_path = f\"{output_dir}/Email.msg\"\n",
    "        email.SaveAs(output_file_path)\n",
    "        logging.info(\"Email Saved Successfully to Output Folder\")\n",
    "        email.move(SavedSentItemsFolder)\n",
    "        logging.info(\"Email Moved Successfully to Processed Folder\")\n",
    "            "
   ]
  },
  {
   "cell_type": "code",
   "execution_count": null,
   "id": "c24c081a",
   "metadata": {},
   "outputs": [],
   "source": [
    "# logging.debug(\"This is a debug message\")     # Will not show (below INFO level)\n",
    "# logging.info(\"This is an info message\")\n",
    "# logging.warning(\"This is a warning\")\n",
    "# logging.error(\"This is an error message\")\n",
    "# logging.critical(\"This is a critical message\")"
   ]
  },
  {
   "cell_type": "code",
   "execution_count": null,
   "id": "4216f2a5",
   "metadata": {},
   "outputs": [],
   "source": []
  },
  {
   "cell_type": "code",
   "execution_count": null,
   "id": "abcbfcc5",
   "metadata": {},
   "outputs": [],
   "source": []
  },
  {
   "cell_type": "code",
   "execution_count": null,
   "id": "e3204cec",
   "metadata": {},
   "outputs": [],
   "source": []
  },
  {
   "cell_type": "code",
   "execution_count": null,
   "id": "3dc92c4d",
   "metadata": {},
   "outputs": [],
   "source": []
  },
  {
   "cell_type": "code",
   "execution_count": null,
   "id": "e3676374",
   "metadata": {},
   "outputs": [],
   "source": []
  }
 ],
 "metadata": {
  "kernelspec": {
   "display_name": "Python 3 (ipykernel)",
   "language": "python",
   "name": "python3"
  },
  "language_info": {
   "codemirror_mode": {
    "name": "ipython",
    "version": 3
   },
   "file_extension": ".py",
   "mimetype": "text/x-python",
   "name": "python",
   "nbconvert_exporter": "python",
   "pygments_lexer": "ipython3",
   "version": "3.10.9"
  }
 },
 "nbformat": 4,
 "nbformat_minor": 5
}
