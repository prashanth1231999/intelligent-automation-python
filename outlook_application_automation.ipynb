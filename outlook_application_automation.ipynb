{
 "cells": [
  {
   "cell_type": "markdown",
   "id": "95c180a4",
   "metadata": {},
   "source": [
    "1. Use the “Classic Outlook” (needed for win32com)\n",
    "    win32 works with classic outlook and it needs microsoft 365 subscription\n",
    "    \n",
    "2. If you stick with Microsoft Store Outlook\n",
    "   You cannot use win32com — because it has no COM interface."
   ]
  },
  {
   "cell_type": "code",
   "execution_count": 1,
   "id": "fddf301a",
   "metadata": {},
   "outputs": [],
   "source": [
    "# pip install pywin32"
   ]
  },
  {
   "cell_type": "code",
   "execution_count": 1,
   "id": "dbacedb1",
   "metadata": {},
   "outputs": [],
   "source": [
    "# outlook.bat is used for adding outlook.exe to system path, this is not used"
   ]
  },
  {
   "cell_type": "markdown",
   "id": "af7ff5cf",
   "metadata": {},
   "source": [
    "### import Libs"
   ]
  },
  {
   "cell_type": "code",
   "execution_count": 35,
   "id": "caef3c89",
   "metadata": {},
   "outputs": [],
   "source": [
    "import win32com.client as win32\n",
    "import os\n",
    "import time"
   ]
  },
  {
   "cell_type": "markdown",
   "id": "7d9eb66f",
   "metadata": {},
   "source": [
    "### Variables"
   ]
  },
  {
   "cell_type": "code",
   "execution_count": 13,
   "id": "9c394c56",
   "metadata": {},
   "outputs": [],
   "source": [
    "MailBoxName = '@gmail.com'\n",
    "ToRecipients = '@gmail.com'\n",
    "ReplyRecipients = '@gmail.com'\n",
    "AttachmentFilePath = '\"C:\\Users\\UserName\\OneDrive\\Desktop\\My Work Experience\\intelligent-automation-python\\README.md\"'"
   ]
  },
  {
   "cell_type": "markdown",
   "id": "dc195ce7",
   "metadata": {},
   "source": [
    "### Connect to Outlook"
   ]
  },
  {
   "cell_type": "code",
   "execution_count": 5,
   "id": "1fe97985",
   "metadata": {},
   "outputs": [],
   "source": [
    "## for checking 64 bit or 32 bit \n",
    "# import platform\n",
    "# print(platform.architecture())"
   ]
  },
  {
   "cell_type": "code",
   "execution_count": 7,
   "id": "b8fe8b1b",
   "metadata": {},
   "outputs": [],
   "source": [
    "# os.startfile('outlook')"
   ]
  },
  {
   "cell_type": "code",
   "execution_count": 26,
   "id": "cfb06233",
   "metadata": {},
   "outputs": [],
   "source": [
    "outlook = win32.Dispatch(\"Outlook.Application\")"
   ]
  },
  {
   "cell_type": "markdown",
   "id": "5d04b856",
   "metadata": {},
   "source": [
    "### Send Email through Outlook"
   ]
  },
  {
   "cell_type": "code",
   "execution_count": 27,
   "id": "40e95c7b",
   "metadata": {},
   "outputs": [],
   "source": [
    "name_space = outlook.GetNamespace(\"MAPI\") "
   ]
  },
  {
   "cell_type": "code",
   "execution_count": 28,
   "id": "8d08854c",
   "metadata": {},
   "outputs": [],
   "source": [
    "# selecting the profile\n",
    "profile = name_space.Folders[MailBoxName]"
   ]
  },
  {
   "cell_type": "code",
   "execution_count": 29,
   "id": "a0a438fb",
   "metadata": {},
   "outputs": [],
   "source": [
    "# selecting the Sender Account\n",
    "SenderAccount = outlook.Session.Accounts[MailBoxName]"
   ]
  },
  {
   "cell_type": "code",
   "execution_count": 32,
   "id": "fc39a20b",
   "metadata": {},
   "outputs": [],
   "source": [
    "email = outlook.CreateItem(0)"
   ]
  },
  {
   "cell_type": "code",
   "execution_count": 34,
   "id": "ea15e13e",
   "metadata": {},
   "outputs": [],
   "source": [
    "body_html = '''<!doctype html>\n",
    "<html lang=\"en\">\n",
    "<head>\n",
    "  <meta charset=\"utf-8\" />\n",
    "  <meta name=\"viewport\" content=\"width=device-width,initial-scale=1\" />\n",
    "  <title>Message</title>\n",
    "  <style>\n",
    "    body { font-family: Arial, Helvetica, sans-serif; font-size: 14px; color: #111; }\n",
    "    .container { max-width: 680px; margin: 20px auto; padding: 16px; }\n",
    "  </style>\n",
    "</head>\n",
    "<body>\n",
    "  <div class=\"container\">\n",
    "    <p>Hi,</p>\n",
    "\n",
    "    <p>PFA,</p>\n",
    "\n",
    "    <p>Thanks and Regards,</p>\n",
    "  </div>\n",
    "</body>\n",
    "</html>\n",
    "'''"
   ]
  },
  {
   "cell_type": "code",
   "execution_count": 33,
   "id": "1558bec0",
   "metadata": {},
   "outputs": [],
   "source": [
    "email.To = ToRecipients\n",
    "email.ReplyRecipients.Add(ReplyRecipients)\n",
    "email.Subject = 'Test Subject'\n",
    "email.HTMLBody = body_html   # HTML Format\n",
    "# email.Body = MailBody        # normal Format\n",
    "email.Attachments.Add(AttachmentFilePath)\n",
    "email.Save()\n",
    "time.sleep(2)"
   ]
  },
  {
   "cell_type": "code",
   "execution_count": null,
   "id": "12c1a563",
   "metadata": {},
   "outputs": [],
   "source": [
    "email.Send()"
   ]
  },
  {
   "cell_type": "code",
   "execution_count": null,
   "id": "33f09556",
   "metadata": {},
   "outputs": [],
   "source": []
  },
  {
   "cell_type": "code",
   "execution_count": null,
   "id": "abfcca47",
   "metadata": {},
   "outputs": [],
   "source": []
  },
  {
   "cell_type": "code",
   "execution_count": null,
   "id": "15d0dce4",
   "metadata": {},
   "outputs": [],
   "source": []
  },
  {
   "cell_type": "code",
   "execution_count": null,
   "id": "2c696f1b",
   "metadata": {},
   "outputs": [],
   "source": []
  },
  {
   "cell_type": "code",
   "execution_count": null,
   "id": "f363eb1d",
   "metadata": {},
   "outputs": [],
   "source": []
  },
  {
   "cell_type": "code",
   "execution_count": null,
   "id": "3dc92c4d",
   "metadata": {},
   "outputs": [],
   "source": []
  },
  {
   "cell_type": "code",
   "execution_count": null,
   "id": "e3676374",
   "metadata": {},
   "outputs": [],
   "source": []
  }
 ],
 "metadata": {
  "kernelspec": {
   "display_name": "Python 3 (ipykernel)",
   "language": "python",
   "name": "python3"
  },
  "language_info": {
   "codemirror_mode": {
    "name": "ipython",
    "version": 3
   },
   "file_extension": ".py",
   "mimetype": "text/x-python",
   "name": "python",
   "nbconvert_exporter": "python",
   "pygments_lexer": "ipython3",
   "version": "3.10.9"
  }
 },
 "nbformat": 4,
 "nbformat_minor": 5
}
