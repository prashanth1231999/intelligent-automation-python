{
 "cells": [
  {
   "cell_type": "code",
   "execution_count": 4,
   "id": "79ca3609",
   "metadata": {
    "scrolled": true
   },
   "outputs": [],
   "source": [
    "# pip list"
   ]
  },
  {
   "cell_type": "code",
   "execution_count": 1,
   "id": "c129b9f2",
   "metadata": {},
   "outputs": [],
   "source": [
    "# pip uninstall protobuf -y"
   ]
  },
  {
   "cell_type": "code",
   "execution_count": 3,
   "id": "54b7589f",
   "metadata": {},
   "outputs": [],
   "source": [
    "# pip install protobuf==3.20.3"
   ]
  },
  {
   "cell_type": "code",
   "execution_count": null,
   "id": "50884e3b",
   "metadata": {},
   "outputs": [],
   "source": [
    "# paddleocr paddlepaddle numpy protobuf"
   ]
  },
  {
   "cell_type": "code",
   "execution_count": 5,
   "id": "908ed735",
   "metadata": {},
   "outputs": [],
   "source": [
    "# pip install opencv-python==4.6.0.66"
   ]
  },
  {
   "cell_type": "code",
   "execution_count": 7,
   "id": "fcd58192",
   "metadata": {},
   "outputs": [],
   "source": [
    "# pip install paddleocr==2.7.0.2"
   ]
  },
  {
   "cell_type": "code",
   "execution_count": 2,
   "id": "601f569a",
   "metadata": {},
   "outputs": [],
   "source": [
    "# pip install paddlepaddle==2.6.0"
   ]
  },
  {
   "cell_type": "code",
   "execution_count": 3,
   "id": "0dd495cb",
   "metadata": {},
   "outputs": [],
   "source": [
    "# pip install numpy==1.23.5 protobuf==4.23.4 --force-reinstall"
   ]
  },
  {
   "cell_type": "markdown",
   "id": "b83d39fd",
   "metadata": {},
   "source": [
    "### Libraries Imports "
   ]
  },
  {
   "cell_type": "code",
   "execution_count": 9,
   "id": "c4de3eed",
   "metadata": {
    "scrolled": true
   },
   "outputs": [],
   "source": [
    "from paddleocr import PaddleOCR\n",
    "import cv2\n",
    "import re"
   ]
  },
  {
   "cell_type": "code",
   "execution_count": 10,
   "id": "e53cda81",
   "metadata": {},
   "outputs": [],
   "source": [
    "def view_image(image_name, image):\n",
    "    cv2.imshow(f\"{image_name}:\", image)\n",
    "    cv2.waitKey(0)        # Wait for a key press\n",
    "    cv2.destroyAllWindows()"
   ]
  },
  {
   "cell_type": "markdown",
   "id": "6d2f1404",
   "metadata": {},
   "source": [
    "### Noise Removal from Images"
   ]
  },
  {
   "cell_type": "code",
   "execution_count": 11,
   "id": "ae0d02ef",
   "metadata": {},
   "outputs": [],
   "source": [
    "def remove_noise(image):\n",
    "    gray = cv2.cvtColor(image, cv2.COLOR_BGR2GRAY)\n",
    "    view_image(\"gray\",gray)\n",
    "    blur = cv2.GaussianBlur(gray, (0,0), sigmaX=33, sigmaY=33)\n",
    "    view_image(\"blur\",blur)\n",
    "    divide = cv2.divide(gray, blur, scale=255)\n",
    "    view_image(\"divide\",divide)\n",
    "    thresh = cv2.threshold(divide, 0, 255, cv2.THRESH_BINARY+cv2.THRESH_OTSU)[1]\n",
    "    view_image(\"thresh\",thresh)\n",
    "    kernal = cv2.getStructuringElement(cv2.MORPH_RECT, (3,3))\n",
    "    morph = cv2.morphologyEx(thresh, cv2.MORPH_CLOSE, kernal)\n",
    "    view_image(\"morph\",morph)\n",
    "    \n",
    "    return morph"
   ]
  },
  {
   "cell_type": "markdown",
   "id": "70de1e24",
   "metadata": {},
   "source": [
    "### Get Captcha Code"
   ]
  },
  {
   "cell_type": "code",
   "execution_count": 12,
   "id": "3c1639d3",
   "metadata": {},
   "outputs": [],
   "source": [
    "def get_result(results):\n",
    "    code= ''\n",
    "    for result in results[0]:\n",
    "        code= code + result[1][0]\n",
    "    code = re.sub(r'[^0-9]+', '', code)\n",
    "    return code"
   ]
  },
  {
   "cell_type": "code",
   "execution_count": 16,
   "id": "458bb881",
   "metadata": {},
   "outputs": [],
   "source": [
    "def get_captcha_code(image_path):\n",
    "    code = None\n",
    "    \n",
    "    npf = cv2.imread(image_path)\n",
    "    \n",
    "    rn = remove_noise(npf)\n",
    "    \n",
    "    ocr = PaddleOCR(lang='en', det_db_score_mode='slow', use_angle_cls=True, use_dilation=True, show_log=False)\n",
    "    \n",
    "    results = ocr.ocr(rn, det=True, rec=True, cls=True)\n",
    "    \n",
    "    print(\"results:\",results)\n",
    "    \n",
    "    code = get_result(results)\n",
    "    \n",
    "    return code"
   ]
  },
  {
   "cell_type": "code",
   "execution_count": 17,
   "id": "5816230d",
   "metadata": {},
   "outputs": [],
   "source": [
    "image_path = r\".\\sample_captcha_images\\captcha_1.png\""
   ]
  },
  {
   "cell_type": "code",
   "execution_count": 18,
   "id": "446a8a55",
   "metadata": {},
   "outputs": [
    {
     "name": "stdout",
     "output_type": "stream",
     "text": [
      "results: [[]]\n"
     ]
    },
    {
     "data": {
      "text/plain": [
       "''"
      ]
     },
     "execution_count": 18,
     "metadata": {},
     "output_type": "execute_result"
    }
   ],
   "source": [
    "get_captcha_code(image_path)"
   ]
  },
  {
   "cell_type": "code",
   "execution_count": null,
   "id": "6b7aa88d",
   "metadata": {},
   "outputs": [],
   "source": []
  },
  {
   "cell_type": "code",
   "execution_count": null,
   "id": "be607e8b",
   "metadata": {},
   "outputs": [],
   "source": []
  }
 ],
 "metadata": {
  "kernelspec": {
   "display_name": "Python 3 (ipykernel)",
   "language": "python",
   "name": "python3"
  },
  "language_info": {
   "codemirror_mode": {
    "name": "ipython",
    "version": 3
   },
   "file_extension": ".py",
   "mimetype": "text/x-python",
   "name": "python",
   "nbconvert_exporter": "python",
   "pygments_lexer": "ipython3",
   "version": "3.10.9"
  }
 },
 "nbformat": 4,
 "nbformat_minor": 5
}
